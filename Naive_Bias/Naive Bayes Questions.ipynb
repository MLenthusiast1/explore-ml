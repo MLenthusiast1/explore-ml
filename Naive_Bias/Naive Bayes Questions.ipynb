{
 "cells": [
  {
   "cell_type": "markdown",
   "metadata": {},
   "source": [
    "# <u><center>Naive Bayes Algorithms Interview Questions</center></u>\n",
    "\n",
    "We believe that you have learned both theoritical and practical knowledge on Naive Bayes classification algorithm through your assignment.\n",
    "\n",
    "So let's test your knowledge here. This will help you to be prepared for interviews too!\n",
    "\n",
    "## Best with Quest\n"
   ]
  },
  {
   "cell_type": "markdown",
   "metadata": {},
   "source": [
    "#### 1.  Why is naive Bayes so ‘naive’ ?"
   ]
  },
  {
   "cell_type": "raw",
   "metadata": {},
   "source": [
    "#Comment\n",
    "\n"
   ]
  },
  {
   "cell_type": "markdown",
   "metadata": {},
   "source": [
    "#### 2.  Explain prior probability, likelihood and marginal likelihood in context of naiveBayes algorithm?"
   ]
  },
  {
   "cell_type": "raw",
   "metadata": {},
   "source": [
    "#comment\n",
    "\n"
   ]
  },
  {
   "cell_type": "markdown",
   "metadata": {},
   "source": [
    "#### 3. Explain the difference between Type 1 and Type 2 errors?"
   ]
  },
  {
   "cell_type": "raw",
   "metadata": {},
   "source": [
    "#Comment\n",
    "\n"
   ]
  },
  {
   "cell_type": "markdown",
   "metadata": {},
   "source": [
    "#### 4. What is meant by F1 score?"
   ]
  },
  {
   "cell_type": "raw",
   "metadata": {},
   "source": [
    "#comment\n",
    "\n",
    "\n"
   ]
  },
  {
   "cell_type": "markdown",
   "metadata": {},
   "source": [
    "#### 5. What are the 3 different naive bayes classifier?"
   ]
  },
  {
   "cell_type": "raw",
   "metadata": {},
   "source": [
    "#comment \n",
    "\n",
    "\n",
    "\n"
   ]
  },
  {
   "cell_type": "markdown",
   "metadata": {},
   "source": [
    "#### 6. What are advantage of Naive Bayes?"
   ]
  },
  {
   "cell_type": "raw",
   "metadata": {},
   "source": [
    "#comment\n",
    "\n",
    "\n",
    "\n"
   ]
  },
  {
   "cell_type": "markdown",
   "metadata": {},
   "source": [
    "#### 7. What are disadvantages of Naive Bayes?\n"
   ]
  },
  {
   "cell_type": "raw",
   "metadata": {},
   "source": [
    "#comment\n",
    "\n",
    "\n",
    "\n"
   ]
  },
  {
   "cell_type": "markdown",
   "metadata": {},
   "source": [
    "#### 8. What does a ROC curve tell you?"
   ]
  },
  {
   "cell_type": "raw",
   "metadata": {},
   "source": [
    "#comment\n",
    "\n",
    "\n",
    "\n"
   ]
  },
  {
   "cell_type": "markdown",
   "metadata": {},
   "source": [
    "#### 9. What is CountVectorizer which you used in your assignment?"
   ]
  },
  {
   "cell_type": "raw",
   "metadata": {},
   "source": [
    "#comment\n",
    "\n",
    "\n",
    "\n",
    "\n"
   ]
  },
  {
   "cell_type": "markdown",
   "metadata": {},
   "source": [
    "##### 10. What is Bayes’ Theorem? How is it useful in a machine learning context?"
   ]
  },
  {
   "cell_type": "raw",
   "metadata": {},
   "source": [
    "#comment\n",
    "\n",
    "\n",
    "\n"
   ]
  },
  {
   "cell_type": "markdown",
   "metadata": {},
   "source": [
    "----------------------\n",
    "\n",
    "#  Now Rest with this Quest !\n",
    "\n",
    "\n",
    "----------------------"
   ]
  }
 ],
 "metadata": {
  "kernelspec": {
   "display_name": "Python 3",
   "language": "python",
   "name": "python3"
  },
  "language_info": {
   "codemirror_mode": {
    "name": "ipython",
    "version": 3
   },
   "file_extension": ".py",
   "mimetype": "text/x-python",
   "name": "python",
   "nbconvert_exporter": "python",
   "pygments_lexer": "ipython3",
   "version": "3.8.5"
  }
 },
 "nbformat": 4,
 "nbformat_minor": 4
}
