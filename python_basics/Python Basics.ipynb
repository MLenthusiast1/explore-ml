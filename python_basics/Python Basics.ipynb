{
 "cells": [
  {
   "cell_type": "markdown",
   "metadata": {
    "id": "KjKXGcSxeNXM"
   },
   "source": [
    "# <center> Python basics</center>"
   ]
  },
  {
   "cell_type": "markdown",
   "metadata": {
    "id": "9p1Ufa7ceNXQ"
   },
   "source": [
    "## Variable declaration"
   ]
  },
  {
   "cell_type": "markdown",
   "metadata": {
    "id": "4sR5efaCeNXQ"
   },
   "source": [
    "Covers the topic of variable declaration and type of variables\n",
    "\n",
    "reference:- https://youtu.be/RVYY7zMiPbg"
   ]
  },
  {
   "cell_type": "markdown",
   "metadata": {
    "id": "KE7co6gleNXQ"
   },
   "source": [
    "<p style='text-align: right;'> 1+1+1+1+1 = 5 points</p>\n"
   ]
  },
  {
   "cell_type": "code",
   "execution_count": 59,
   "metadata": {
    "executionInfo": {
     "elapsed": 3456,
     "status": "ok",
     "timestamp": 1619443405266,
     "user": {
      "displayName": "",
      "photoUrl": "",
      "userId": ""
     },
     "user_tz": -330
    },
    "id": "vO08gwqneNXR"
   },
   "outputs": [],
   "source": [
    "# declare two variables, a = 5, b = 'city'\n",
    "a =5\n",
    "b =\"city\" \n"
   ]
  },
  {
   "cell_type": "code",
   "execution_count": 60,
   "metadata": {
    "colab": {
     "base_uri": "https://localhost:8080/"
    },
    "executionInfo": {
     "elapsed": 3443,
     "status": "ok",
     "timestamp": 1619443405267,
     "user": {
      "displayName": "",
      "photoUrl": "",
      "userId": ""
     },
     "user_tz": -330
    },
    "id": "scAjfXbYeNXR",
    "outputId": "8f366ef2-cca8-4083-f533-03f901d3f57c"
   },
   "outputs": [
    {
     "name": "stdout",
     "output_type": "stream",
     "text": [
      "<class 'int'>\n"
     ]
    }
   ],
   "source": [
    "# print type of a\n",
    "print(type(a))"
   ]
  },
  {
   "cell_type": "code",
   "execution_count": 61,
   "metadata": {
    "colab": {
     "base_uri": "https://localhost:8080/"
    },
    "executionInfo": {
     "elapsed": 3127,
     "status": "ok",
     "timestamp": 1619443410150,
     "user": {
      "displayName": "",
      "photoUrl": "",
      "userId": ""
     },
     "user_tz": -330
    },
    "id": "QjRcLLnieNXR",
    "outputId": "31fd1b2b-b1dc-4252-b9e4-20bac0b2ea33"
   },
   "outputs": [
    {
     "name": "stdout",
     "output_type": "stream",
     "text": [
      "<class 'str'>\n"
     ]
    }
   ],
   "source": [
    "# print type of b\n",
    "print(type(b))\n"
   ]
  },
  {
   "cell_type": "code",
   "execution_count": 62,
   "metadata": {
    "colab": {
     "base_uri": "https://localhost:8080/"
    },
    "executionInfo": {
     "elapsed": 2254,
     "status": "ok",
     "timestamp": 1619443415984,
     "user": {
      "displayName": "",
      "photoUrl": "",
      "userId": ""
     },
     "user_tz": -330
    },
    "id": "Qmbw_6M-eNXS",
    "outputId": "6e9cca9f-36f1-4579-d81a-e709490ca1bf"
   },
   "outputs": [
    {
     "name": "stdout",
     "output_type": "stream",
     "text": [
      "city 5\n"
     ]
    }
   ],
   "source": [
    "# swap the values of a and b\n",
    "tmp=a\n",
    "a=b\n",
    "b=tmp\n",
    "print(a,b)"
   ]
  },
  {
   "cell_type": "code",
   "execution_count": 64,
   "metadata": {
    "colab": {
     "base_uri": "https://localhost:8080/"
    },
    "executionInfo": {
     "elapsed": 2021,
     "status": "ok",
     "timestamp": 1619443438673,
     "user": {
      "displayName": "",
      "photoUrl": "",
      "userId": ""
     },
     "user_tz": -330
    },
    "id": "YopoVVCAeNXS",
    "outputId": "b90ce586-74d0-42b6-e3f7-7f4d56255a0d"
   },
   "outputs": [
    {
     "name": "stdout",
     "output_type": "stream",
     "text": [
      "a = city , b = 5\n"
     ]
    }
   ],
   "source": [
    "# run this to confirm \n",
    "print(\"a = \" + str(a) + \" , b = \" + str(b))"
   ]
  },
  {
   "cell_type": "markdown",
   "metadata": {
    "id": "a_v4KypaeNXS"
   },
   "source": [
    "## Arithmetic Operations"
   ]
  },
  {
   "cell_type": "markdown",
   "metadata": {
    "id": "oimyvbWbeNXS"
   },
   "source": [
    "Simple mathematical operations and using math module to apply mathematical functions"
   ]
  },
  {
   "cell_type": "markdown",
   "metadata": {
    "id": "MXIsatRMeNXS"
   },
   "source": [
    "- Mathematical operations\n",
    "\n",
    "reference:- https://youtu.be/0-hzxfkpHy8"
   ]
  },
  {
   "cell_type": "markdown",
   "metadata": {
    "id": "KrbCKjEfeNXS"
   },
   "source": [
    "<p style='text-align: right;'> 1 + 7 = 8 points </p>\n"
   ]
  },
  {
   "cell_type": "code",
   "execution_count": 65,
   "metadata": {
    "colab": {
     "base_uri": "https://localhost:8080/"
    },
    "executionInfo": {
     "elapsed": 1078,
     "status": "ok",
     "timestamp": 1619443462775,
     "user": {
      "displayName": "",
      "photoUrl": "",
      "userId": ""
     },
     "user_tz": -330
    },
    "id": "2v8qg_9deNXT",
    "outputId": "516b9f72-addc-487a-9279-b801661adaf3"
   },
   "outputs": [
    {
     "name": "stdout",
     "output_type": "stream",
     "text": [
      "a = 24, b = 3\n"
     ]
    }
   ],
   "source": [
    "# declare two variables, a = 24, b = 3\n",
    "\n",
    "a =24 \n",
    "\n",
    "b =3\n",
    "print('a = {}, b = {}'.format(a,b))"
   ]
  },
  {
   "cell_type": "code",
   "execution_count": 66,
   "metadata": {
    "colab": {
     "base_uri": "https://localhost:8080/"
    },
    "executionInfo": {
     "elapsed": 1286,
     "status": "ok",
     "timestamp": 1619443474837,
     "user": {
      "displayName": "",
      "photoUrl": "",
      "userId": ""
     },
     "user_tz": -330
    },
    "id": "5ZDI9lYXeNXT",
    "outputId": "a3b34382-3f78-4f47-db60-34db7daa31e0"
   },
   "outputs": [
    {
     "name": "stdout",
     "output_type": "stream",
     "text": [
      "a + b = 27\n",
      "a - b = 21\n",
      "a * b = 72\n",
      "a / b = 8.0\n",
      "a // b = 8\n",
      "a % b = 0\n",
      "a ^ b = 13824\n"
     ]
    }
   ],
   "source": [
    "# calculate and print all the possible numeriacl operations on a and b (There are total 7 operations)\n",
    "print(\"a + b =\",a+b)\n",
    "print(\"a - b =\",a-b)\n",
    "print(\"a * b =\",a*b)\n",
    "print(\"a / b =\",a/b)\n",
    "print(\"a // b =\",a//b)\n",
    "print(\"a % b =\",a%b)\n",
    "print(\"a ^ b =\",a**b)"
   ]
  },
  {
   "cell_type": "markdown",
   "metadata": {
    "id": "72RJqXFDeNXT"
   },
   "source": [
    "## Math Functions"
   ]
  },
  {
   "cell_type": "markdown",
   "metadata": {
    "id": "9inWZMVBeNXT"
   },
   "source": [
    "Math module contains various mathematical functions. \n",
    "\n",
    "Reference:- https://youtu.be/gktjNyV0xks"
   ]
  },
  {
   "cell_type": "markdown",
   "metadata": {
    "id": "760Q04pmeNXT"
   },
   "source": [
    "<p style='text-align: right;'> 1 + 4 = 5 points </p>\n"
   ]
  },
  {
   "cell_type": "code",
   "execution_count": 39,
   "metadata": {
    "colab": {
     "base_uri": "https://localhost:8080/"
    },
    "executionInfo": {
     "elapsed": 1090,
     "status": "ok",
     "timestamp": 1619435908760,
     "user": {
      "displayName": "",
      "photoUrl": "",
      "userId": ""
     },
     "user_tz": -330
    },
    "id": "96VQV_7xeNXT",
    "outputId": "6f0e1301-001c-4d9f-c5e9-8f8b37f8f37d"
   },
   "outputs": [
    {
     "name": "stdout",
     "output_type": "stream",
     "text": [
      "a =  2\n"
     ]
    }
   ],
   "source": [
    "import math\n",
    "# declare a variable a = 2\n",
    "a =  2\n",
    "print('a = ',a)"
   ]
  },
  {
   "cell_type": "code",
   "execution_count": 40,
   "metadata": {
    "executionInfo": {
     "elapsed": 1110,
     "status": "ok",
     "timestamp": 1619435920637,
     "user": {
      "displayName": "",
      "photoUrl": "",
      "userId": ""
     },
     "user_tz": -330
    },
    "id": "MP7p4aqXeNXT"
   },
   "outputs": [],
   "source": [
    "# declare a variable x = 2 and y=5.32167\n",
    "\n",
    "x=2\n",
    "y=5.32167"
   ]
  },
  {
   "cell_type": "code",
   "execution_count": 41,
   "metadata": {
    "colab": {
     "base_uri": "https://localhost:8080/"
    },
    "executionInfo": {
     "elapsed": 1084,
     "status": "ok",
     "timestamp": 1619435925322,
     "user": {
      "displayName": "",
      "photoUrl": "",
      "userId": ""
     },
     "user_tz": -330
    },
    "id": "e-83j1adeNXT",
    "outputId": "ba2bce8d-0637-40df-8ff2-a5b24c2b3790"
   },
   "outputs": [
    {
     "name": "stdout",
     "output_type": "stream",
     "text": [
      "5.32167\n"
     ]
    }
   ],
   "source": [
    "# Print the maximum value between x and y\n",
    "print(max(x,y))\n"
   ]
  },
  {
   "cell_type": "code",
   "execution_count": 42,
   "metadata": {
    "colab": {
     "base_uri": "https://localhost:8080/"
    },
    "executionInfo": {
     "elapsed": 1359,
     "status": "ok",
     "timestamp": 1619436286274,
     "user": {
      "displayName": "",
      "photoUrl": "",
      "userId": ""
     },
     "user_tz": -330
    },
    "id": "L7k75CdJeNXU",
    "outputId": "8196fd7f-cf97-41c3-9f4f-e859c80b978b"
   },
   "outputs": [
    {
     "name": "stdout",
     "output_type": "stream",
     "text": [
      "5.32\n"
     ]
    }
   ],
   "source": [
    "# Round value of y upto 2 decimal places\n",
    "print(round(y,2))\n"
   ]
  },
  {
   "cell_type": "code",
   "execution_count": 47,
   "metadata": {
    "colab": {
     "base_uri": "https://localhost:8080/"
    },
    "executionInfo": {
     "elapsed": 1120,
     "status": "ok",
     "timestamp": 1619436538824,
     "user": {
      "displayName": "",
      "photoUrl": "",
      "userId": ""
     },
     "user_tz": -330
    },
    "id": "mqnxWyVPeNXU",
    "outputId": "ae540b27-970a-4339-fa75-13d22739cc4c"
   },
   "outputs": [
    {
     "name": "stdout",
     "output_type": "stream",
     "text": [
      "4\n",
      "8\n"
     ]
    }
   ],
   "source": [
    "# Print square and cube of x and store in a and b variable\n",
    "a=pow(x,2)\n",
    "b=pow(x,3)\n",
    "print(a)\n",
    "print(b)\n"
   ]
  },
  {
   "cell_type": "code",
   "execution_count": 49,
   "metadata": {
    "colab": {
     "base_uri": "https://localhost:8080/"
    },
    "executionInfo": {
     "elapsed": 1484,
     "status": "ok",
     "timestamp": 1619436691622,
     "user": {
      "displayName": "",
      "photoUrl": "",
      "userId": ""
     },
     "user_tz": -330
    },
    "id": "wIckQ1nueNXU",
    "outputId": "25a792f1-1bf6-4f0d-a1d3-2d90855d21ca"
   },
   "outputs": [
    {
     "name": "stdout",
     "output_type": "stream",
     "text": [
      "0.6931471805599453\n"
     ]
    }
   ],
   "source": [
    "#print log of x and store it in variable c\n",
    "c=math.log(x)\n",
    "print(c)\n"
   ]
  },
  {
   "cell_type": "code",
   "execution_count": 50,
   "metadata": {
    "colab": {
     "base_uri": "https://localhost:8080/"
    },
    "executionInfo": {
     "elapsed": 1028,
     "status": "ok",
     "timestamp": 1619436715185,
     "user": {
      "displayName": "",
      "photoUrl": "",
      "userId": ""
     },
     "user_tz": -330
    },
    "id": "81OO8rLZeNXU",
    "outputId": "56e0fd8b-4cf4-472c-b7c6-842747d0b34f"
   },
   "outputs": [
    {
     "name": "stdout",
     "output_type": "stream",
     "text": [
      "0.6931471805599453\n"
     ]
    }
   ],
   "source": [
    "#print minimum value between x,y,a, b and c\n",
    "print(min(x,y,a,b,c))\n"
   ]
  },
  {
   "cell_type": "code",
   "execution_count": 51,
   "metadata": {
    "colab": {
     "base_uri": "https://localhost:8080/"
    },
    "executionInfo": {
     "elapsed": 1107,
     "status": "ok",
     "timestamp": 1619436850773,
     "user": {
      "displayName": "",
      "photoUrl": "",
      "userId": ""
     },
     "user_tz": -330
    },
    "id": "IVoJv4qNeNXU",
    "outputId": "45bc1d14-eb1d-46f9-8f30-d3dca29ff121"
   },
   "outputs": [
    {
     "name": "stdout",
     "output_type": "stream",
     "text": [
      "0\n"
     ]
    }
   ],
   "source": [
    "#print the largest integer not greater than c.\n",
    "print(math.floor(c))\n"
   ]
  },
  {
   "cell_type": "code",
   "execution_count": 52,
   "metadata": {
    "colab": {
     "base_uri": "https://localhost:8080/"
    },
    "executionInfo": {
     "elapsed": 1036,
     "status": "ok",
     "timestamp": 1619436879354,
     "user": {
      "displayName": "",
      "photoUrl": "",
      "userId": ""
     },
     "user_tz": -330
    },
    "id": "P7-6VgAMeNXU",
    "outputId": "3d87bf96-03ab-435a-c9c0-4dc9123d2b09"
   },
   "outputs": [
    {
     "name": "stdout",
     "output_type": "stream",
     "text": [
      "1\n"
     ]
    }
   ],
   "source": [
    "#print the smallest integer not less than c.\n",
    "print(math.ceil(c))\n"
   ]
  },
  {
   "cell_type": "markdown",
   "metadata": {
    "id": "CpK_SvIbeNXV"
   },
   "source": [
    "## Logical opeations\n",
    "\n",
    "Reference:- https://youtu.be/9w992l9TFIs"
   ]
  },
  {
   "cell_type": "markdown",
   "metadata": {
    "id": "GX4Z0AnteNXV"
   },
   "source": [
    "<p style='text-align: right;'> 1 + 1 + 1 + 6 = 9 points </p>\n"
   ]
  },
  {
   "cell_type": "code",
   "execution_count": 67,
   "metadata": {
    "colab": {
     "base_uri": "https://localhost:8080/"
    },
    "executionInfo": {
     "elapsed": 1029,
     "status": "ok",
     "timestamp": 1619443577134,
     "user": {
      "displayName": "",
      "photoUrl": "",
      "userId": ""
     },
     "user_tz": -330
    },
    "id": "wYpbM_fveNXV",
    "outputId": "a5a64460-8053-4f90-da81-6a6a454962f4"
   },
   "outputs": [
    {
     "name": "stdout",
     "output_type": "stream",
     "text": [
      "True\n",
      "False\n"
     ]
    }
   ],
   "source": [
    "# declare two variables, a = True, b = False\n",
    "\n",
    "a = True\n",
    "b = False\n",
    "\n",
    "print(a)\n",
    "print(b)"
   ]
  },
  {
   "cell_type": "code",
   "execution_count": 68,
   "metadata": {
    "colab": {
     "base_uri": "https://localhost:8080/"
    },
    "executionInfo": {
     "elapsed": 1033,
     "status": "ok",
     "timestamp": 1619443620766,
     "user": {
      "displayName": "",
      "photoUrl": "",
      "userId": ""
     },
     "user_tz": -330
    },
    "id": "vgpEU8_neNXV",
    "outputId": "3b9d08df-ce86-44e0-a41a-63b6c84cb08b"
   },
   "outputs": [
    {
     "name": "stdout",
     "output_type": "stream",
     "text": [
      "type of a is  <class 'bool'>\n",
      "type of b is  <class 'bool'>\n"
     ]
    }
   ],
   "source": [
    "# print type of a and type of b\n",
    "print(\"type of a is \",type(a))\n",
    "print(\"type of b is \",type(b))"
   ]
  },
  {
   "cell_type": "code",
   "execution_count": 69,
   "metadata": {
    "colab": {
     "base_uri": "https://localhost:8080/"
    },
    "executionInfo": {
     "elapsed": 1100,
     "status": "ok",
     "timestamp": 1619443700165,
     "user": {
      "displayName": "",
      "photoUrl": "",
      "userId": ""
     },
     "user_tz": -330
    },
    "id": "D2rgf--9eNXV",
    "outputId": "5b38d48a-8ea7-4ccf-f21f-cbf725d50207"
   },
   "outputs": [
    {
     "name": "stdout",
     "output_type": "stream",
     "text": [
      "int of a is  1\n",
      "int of b is  0\n"
     ]
    }
   ],
   "source": [
    "# print int(a) and int(b)\n",
    "print(\"int of a is \",int(a))\n",
    "print(\"int of b is \",int(b))\n"
   ]
  },
  {
   "cell_type": "code",
   "execution_count": 70,
   "metadata": {
    "colab": {
     "base_uri": "https://localhost:8080/"
    },
    "executionInfo": {
     "elapsed": 1248,
     "status": "ok",
     "timestamp": 1619443895648,
     "user": {
      "displayName": "",
      "photoUrl": "",
      "userId": ""
     },
     "user_tz": -330
    },
    "id": "ah900wkaeNXV",
    "outputId": "ada371a2-0753-44e4-d16b-53de852e9348"
   },
   "outputs": [
    {
     "name": "stdout",
     "output_type": "stream",
     "text": [
      "not a False\n",
      "not b True\n",
      "a and b False\n",
      "a or b True\n",
      "a and not b True\n"
     ]
    }
   ],
   "source": [
    "# Find and print the values of not a, not b, a and b, a or b, a and not b\n",
    "print(\"not a\",not a)\n",
    "print(\"not b\",not b)\n",
    "print (\"a and b\",a and b)\n",
    "print(\"a or b\",a | b)\n",
    "\n",
    "print(\"a and not b\",a and not b)\n",
    "\n"
   ]
  },
  {
   "cell_type": "markdown",
   "metadata": {
    "id": "l4JVbYR8eNXV"
   },
   "source": [
    "## List Comprehensions\n",
    "\n",
    "Reference:- https://youtu.be/17gTGqHG5xQ"
   ]
  },
  {
   "cell_type": "markdown",
   "metadata": {
    "id": "0CIutYHieNXV"
   },
   "source": [
    "<p style='text-align: right;'> 10 + 10 + 10= 30 points </p>\n"
   ]
  },
  {
   "cell_type": "code",
   "execution_count": 71,
   "metadata": {
    "colab": {
     "base_uri": "https://localhost:8080/"
    },
    "executionInfo": {
     "elapsed": 1050,
     "status": "ok",
     "timestamp": 1619444252306,
     "user": {
      "displayName": "",
      "photoUrl": "",
      "userId": ""
     },
     "user_tz": -330
    },
    "id": "anJ88T28eNXW",
    "outputId": "6045b45e-6b23-492b-ef7d-a1c9b36f91ad"
   },
   "outputs": [
    {
     "name": "stdout",
     "output_type": "stream",
     "text": [
      "[1, 2, 3, 4, 5, 6, 7, 8, 9, 10, 11, 12, 13, 14, 15, 16, 17, 18, 19, 20]\n"
     ]
    }
   ],
   "source": [
    "# Using list comprehension, create a list containing numbers from 1 to 20.\n",
    "\n",
    "l1 = lst=[x for x in range(1,21)]\n",
    "\n",
    "print(l1)"
   ]
  },
  {
   "cell_type": "code",
   "execution_count": 72,
   "metadata": {
    "colab": {
     "base_uri": "https://localhost:8080/"
    },
    "executionInfo": {
     "elapsed": 1367,
     "status": "ok",
     "timestamp": 1619444255942,
     "user": {
      "displayName": "",
      "photoUrl": "",
      "userId": ""
     },
     "user_tz": -330
    },
    "id": "7lZ1y452eNXW",
    "outputId": "81a47559-2a7b-4315-b928-f54ac8fee774"
   },
   "outputs": [
    {
     "name": "stdout",
     "output_type": "stream",
     "text": [
      "[2, 4, 6, 8, 10, 12, 14, 16, 18, 20]\n"
     ]
    }
   ],
   "source": [
    "# Using list comprehension, create a list containing numbers from 1 to 20 that are even\n",
    "\n",
    "l2 =  lst=[x for x in range(1,21) if x%2==0]\n",
    "\n",
    "print(l2)"
   ]
  },
  {
   "cell_type": "markdown",
   "metadata": {
    "id": "bD4TcJvreNXW"
   },
   "source": [
    "Create a list of all the fruits you like. Using list comprehension, create another list which contains the length of fruits corresponding fruits\n",
    "- Eg. fruits = [‘apple’,’kiwi’,’orange’], then output would be - [5,4,6]\n"
   ]
  },
  {
   "cell_type": "code",
   "execution_count": 73,
   "metadata": {
    "colab": {
     "base_uri": "https://localhost:8080/"
    },
    "executionInfo": {
     "elapsed": 1330,
     "status": "ok",
     "timestamp": 1619444528601,
     "user": {
      "displayName": "",
      "photoUrl": "",
      "userId": ""
     },
     "user_tz": -330
    },
    "id": "flZPD3o5eNXW",
    "outputId": "027e9c9d-db44-4dc3-862a-bb911cfd655c"
   },
   "outputs": [
    {
     "name": "stdout",
     "output_type": "stream",
     "text": [
      "['apple', 'kiwi', 'orange']\n",
      "[5, 4, 6]\n"
     ]
    }
   ],
   "source": [
    "fruits = [\"apple\",\"kiwi\",\"orange\"]\n",
    "len_fruits = [len(x) for x in fruits] \n",
    "\n",
    "print(fruits)\n",
    "print(len_fruits)"
   ]
  },
  {
   "cell_type": "markdown",
   "metadata": {
    "id": "q07oOsRCeNXW"
   },
   "source": [
    "The above output is shown if fruits = ['apple','kiwi,'orange'], it can vary for different values of fruits"
   ]
  },
  {
   "cell_type": "markdown",
   "metadata": {
    "id": "IDDz4_e0eNXW"
   },
   "source": [
    "## String value and operators"
   ]
  },
  {
   "cell_type": "markdown",
   "metadata": {
    "id": "qps_eW_PeNXW"
   },
   "source": [
    "<p style='text-align: right;'> 1 + 1 + 1 + 1 + 1 = 5 points </p>\n"
   ]
  },
  {
   "cell_type": "markdown",
   "metadata": {
    "id": "6Ipf08Q7eNXW"
   },
   "source": [
    "### Characters in strings\n",
    "\n",
    "Reference:-  https://youtu.be/LnQDWIMaJlA"
   ]
  },
  {
   "cell_type": "code",
   "execution_count": 2,
   "metadata": {
    "id": "OoTi1ofVeNXW"
   },
   "outputs": [],
   "source": [
    "# declare the variables x and y\n",
    "\n",
    "x = 'cat'\n",
    "y = 'dog'\n"
   ]
  },
  {
   "cell_type": "code",
   "execution_count": 5,
   "metadata": {
    "id": "XAIFbrDTeNXX",
    "outputId": "4d664619-73ad-4f5b-ba19-8c61c5aafc0c"
   },
   "outputs": [
    {
     "name": "stdout",
     "output_type": "stream",
     "text": [
      "cat\n",
      "dog\n"
     ]
    }
   ],
   "source": [
    "#Print both the strings\n",
    "print(x)\n",
    "print(y)"
   ]
  },
  {
   "cell_type": "code",
   "execution_count": 7,
   "metadata": {
    "id": "FWK03roMeNXX",
    "outputId": "ac7d7ed5-25eb-4c96-e30e-202613c10f7b"
   },
   "outputs": [
    {
     "name": "stdout",
     "output_type": "stream",
     "text": [
      "First ch of x :  c\n",
      "First ch of y :  d\n"
     ]
    }
   ],
   "source": [
    "#Print first character of both x and y. \n",
    "print(\"First ch of x : \" ,x[0])\n",
    "print(\"First ch of y : \" ,y[0])"
   ]
  },
  {
   "cell_type": "code",
   "execution_count": 9,
   "metadata": {
    "id": "h_KwSiO0eNXX",
    "outputId": "85ee3dd9-7473-40be-d0d3-0a0dc0653115"
   },
   "outputs": [
    {
     "name": "stdout",
     "output_type": "stream",
     "text": [
      "Last ch of x :  t\n",
      "Last ch of y :  g\n"
     ]
    }
   ],
   "source": [
    "#Print last character of both x and y.\n",
    "\n",
    "print(\"Last ch of x : \" ,x[-1])\n",
    "print(\"Last ch of y : \" ,y[-1])"
   ]
  },
  {
   "cell_type": "code",
   "execution_count": 11,
   "metadata": {
    "id": "0wkKYH5deNXX",
    "outputId": "60898a4c-9d59-46c7-80c1-fe0353e9c3c7"
   },
   "outputs": [
    {
     "name": "stdout",
     "output_type": "stream",
     "text": [
      "Length of x :  3\n",
      "Length of y :  3\n"
     ]
    }
   ],
   "source": [
    "#Print len of both x and y\n",
    "print('Length of x : ',len(x))\n",
    "print('Length of y : ',len(y))"
   ]
  },
  {
   "cell_type": "code",
   "execution_count": 12,
   "metadata": {
    "id": "7MTxU6BDeNXX",
    "outputId": "762bc803-4ce1-4e91-cc25-49e346217dc7"
   },
   "outputs": [
    {
     "data": {
      "text/plain": [
       "'catdog'"
      ]
     },
     "execution_count": 12,
     "metadata": {},
     "output_type": "execute_result"
    }
   ],
   "source": [
    "#concatenate both x and y and store it in variable z and print z\n",
    "z=x+y\n",
    "z"
   ]
  },
  {
   "cell_type": "code",
   "execution_count": 15,
   "metadata": {
    "id": "hF-zdXhceNXX",
    "outputId": "fea9bc29-333b-4c02-8440-8f7464408f42"
   },
   "outputs": [
    {
     "name": "stdout",
     "output_type": "stream",
     "text": [
      "True\n"
     ]
    }
   ],
   "source": [
    "#check if x is part of z \n",
    "print( x in z)\n"
   ]
  },
  {
   "cell_type": "markdown",
   "metadata": {
    "id": "clm-IjeGeNXX"
   },
   "source": [
    "### String slicing"
   ]
  },
  {
   "cell_type": "markdown",
   "metadata": {
    "id": "mewIf8iTeNXX"
   },
   "source": [
    "<p style='text-align: right;'> 2 points </p>"
   ]
  },
  {
   "cell_type": "code",
   "execution_count": 1,
   "metadata": {
    "colab": {
     "base_uri": "https://localhost:8080/"
    },
    "executionInfo": {
     "elapsed": 1305,
     "status": "ok",
     "timestamp": 1619453283930,
     "user": {
      "displayName": "",
      "photoUrl": "",
      "userId": ""
     },
     "user_tz": -330
    },
    "id": "bsCJMXk6eNXX",
    "outputId": "f1ed1536-aace-4e86-b245-a888dd1748ae"
   },
   "outputs": [
    {
     "name": "stdout",
     "output_type": "stream",
     "text": [
      "pineapple\n"
     ]
    }
   ],
   "source": [
    "#Create variable a = “pineapple”\n",
    "a = \"pineapple\"\n",
    "\n",
    "print(a)"
   ]
  },
  {
   "cell_type": "code",
   "execution_count": 2,
   "metadata": {
    "colab": {
     "base_uri": "https://localhost:8080/"
    },
    "executionInfo": {
     "elapsed": 1356,
     "status": "ok",
     "timestamp": 1619453338512,
     "user": {
      "displayName": "",
      "photoUrl": "",
      "userId": ""
     },
     "user_tz": -330
    },
    "id": "Gx1aw_kieNXY",
    "outputId": "c0916604-84bb-4e2a-d79f-06ffe5db66ba"
   },
   "outputs": [
    {
     "name": "stdout",
     "output_type": "stream",
     "text": [
      "pine\n",
      "apple\n"
     ]
    }
   ],
   "source": [
    "# Using index slicing, print the words ‘pine’ and “apple”.\n",
    "# HINT - a[:]\n",
    "print(a[:4])\n",
    "print(a[4:])\n",
    "\n"
   ]
  },
  {
   "cell_type": "code",
   "execution_count": 4,
   "metadata": {
    "colab": {
     "base_uri": "https://localhost:8080/"
    },
    "executionInfo": {
     "elapsed": 1455,
     "status": "ok",
     "timestamp": 1619453365351,
     "user": {
      "displayName": "",
      "photoUrl": "",
      "userId": ""
     },
     "user_tz": -330
    },
    "id": "k-rs1GYmeNXY",
    "outputId": "384d12d9-8518-4d85-dbb8-2e7258e2d32b"
   },
   "outputs": [
    {
     "name": "stdout",
     "output_type": "stream",
     "text": [
      "PINEAPPLE\n"
     ]
    }
   ],
   "source": [
    "#Convert a into upper case\n",
    "print(a.upper())\n",
    "\n"
   ]
  },
  {
   "cell_type": "markdown",
   "metadata": {
    "id": "Z8XcOd5-eNXY"
   },
   "source": [
    "## Sentences"
   ]
  },
  {
   "cell_type": "markdown",
   "metadata": {
    "id": "ReZ5tbFAeNXY"
   },
   "source": [
    "<p style='text-align: right;'> 1+1+1+1+1+1 = 6 points </p>\n"
   ]
  },
  {
   "cell_type": "code",
   "execution_count": 5,
   "metadata": {
    "colab": {
     "base_uri": "https://localhost:8080/"
    },
    "executionInfo": {
     "elapsed": 1661,
     "status": "ok",
     "timestamp": 1619453409313,
     "user": {
      "displayName": "",
      "photoUrl": "",
      "userId": ""
     },
     "user_tz": -330
    },
    "id": "dL4G-RTteNXY",
    "outputId": "3c673403-8501-4a5c-9352-d11cef06e857"
   },
   "outputs": [
    {
     "name": "stdout",
     "output_type": "stream",
     "text": [
      "I am flying to London\n"
     ]
    }
   ],
   "source": [
    "# Declare a sentence of ‘I am flying to London’\n",
    "sent = \"I am flying to London\"\n",
    "print(sent)"
   ]
  },
  {
   "cell_type": "code",
   "execution_count": 6,
   "metadata": {
    "colab": {
     "base_uri": "https://localhost:8080/"
    },
    "executionInfo": {
     "elapsed": 1328,
     "status": "ok",
     "timestamp": 1619453422465,
     "user": {
      "displayName": "",
      "photoUrl": "",
      "userId": ""
     },
     "user_tz": -330
    },
    "id": "LA-HL-kaeNXY",
    "outputId": "1091eb4a-114c-41e7-8246-a0855cd1e802"
   },
   "outputs": [
    {
     "name": "stdout",
     "output_type": "stream",
     "text": [
      "21\n"
     ]
    }
   ],
   "source": [
    "#Print len of the sentence\n",
    "print(len(sent))\n"
   ]
  },
  {
   "cell_type": "code",
   "execution_count": 7,
   "metadata": {
    "colab": {
     "base_uri": "https://localhost:8080/"
    },
    "executionInfo": {
     "elapsed": 1629,
     "status": "ok",
     "timestamp": 1619453606294,
     "user": {
      "displayName": "",
      "photoUrl": "",
      "userId": ""
     },
     "user_tz": -330
    },
    "id": "fe-uTW_9eNXY",
    "outputId": "b05da410-dbec-42d2-d4a3-4aa4f6ca234d"
   },
   "outputs": [
    {
     "name": "stdout",
     "output_type": "stream",
     "text": [
      "London\n"
     ]
    }
   ],
   "source": [
    "#Using list comprehension, print the word London\n",
    "lst=sent.split()\n",
    "print(lst[-1])"
   ]
  },
  {
   "cell_type": "code",
   "execution_count": 8,
   "metadata": {
    "colab": {
     "base_uri": "https://localhost:8080/"
    },
    "executionInfo": {
     "elapsed": 1385,
     "status": "ok",
     "timestamp": 1619453634512,
     "user": {
      "displayName": "",
      "photoUrl": "",
      "userId": ""
     },
     "user_tz": -330
    },
    "id": "HIekhMtXeNXY",
    "outputId": "811c3882-9ea9-40ac-fc10-9b3265c85929"
   },
   "outputs": [
    {
     "name": "stdout",
     "output_type": "stream",
     "text": [
      "['I', 'am', 'flying', 'to', 'London']\n"
     ]
    }
   ],
   "source": [
    "# Use .split to get list of individual words in the sentence\n",
    "lst=sent.split()\n",
    "print(lst)\n"
   ]
  },
  {
   "cell_type": "code",
   "execution_count": 9,
   "metadata": {
    "colab": {
     "base_uri": "https://localhost:8080/"
    },
    "executionInfo": {
     "elapsed": 1339,
     "status": "ok",
     "timestamp": 1619453653632,
     "user": {
      "displayName": "",
      "photoUrl": "",
      "userId": ""
     },
     "user_tz": -330
    },
    "id": "pZdbgHX3eNXZ",
    "outputId": "d0b7b54e-17e8-4e67-8eb6-499ac30af9b4"
   },
   "outputs": [
    {
     "name": "stdout",
     "output_type": "stream",
     "text": [
      "i am flying to london\n"
     ]
    }
   ],
   "source": [
    "# Convert sentence in lower case \n",
    "print(sent.lower())\n"
   ]
  },
  {
   "cell_type": "code",
   "execution_count": 10,
   "metadata": {
    "colab": {
     "base_uri": "https://localhost:8080/"
    },
    "executionInfo": {
     "elapsed": 1408,
     "status": "ok",
     "timestamp": 1619453676165,
     "user": {
      "displayName": "",
      "photoUrl": "",
      "userId": ""
     },
     "user_tz": -330
    },
    "id": "J2zWMRxTeNXZ",
    "outputId": "51925823-d634-4e5e-fa8d-424cb46e5944"
   },
   "outputs": [
    {
     "name": "stdout",
     "output_type": "stream",
     "text": [
      "I AM FLYING TO LONDON\n"
     ]
    }
   ],
   "source": [
    "# Convert sentence in upper case .\n",
    "print(sent.upper())\n",
    "\n"
   ]
  },
  {
   "cell_type": "markdown",
   "metadata": {
    "id": "OIX_zec1eNXZ"
   },
   "source": [
    "## Functions"
   ]
  },
  {
   "cell_type": "markdown",
   "metadata": {
    "id": "L0vLAhsKeNXZ"
   },
   "source": [
    "### Declare a function which  takes input as x, and returns the square of x. \n",
    "Reference:- https://youtu.be/Rpq9MC67M08"
   ]
  },
  {
   "cell_type": "markdown",
   "metadata": {
    "id": "arAkBy9SeNXZ"
   },
   "source": [
    "<p style='text-align: right;'> 5 + 3 = 8 points </p>\n"
   ]
  },
  {
   "cell_type": "code",
   "execution_count": 11,
   "metadata": {
    "executionInfo": {
     "elapsed": 1173,
     "status": "ok",
     "timestamp": 1619456244239,
     "user": {
      "displayName": "",
      "photoUrl": "",
      "userId": ""
     },
     "user_tz": -330
    },
    "id": "hSiSaciReNXZ"
   },
   "outputs": [],
   "source": [
    "def square(x): \n",
    "    return x*x"
   ]
  },
  {
   "cell_type": "markdown",
   "metadata": {
    "id": "h-gWhymNeNXZ"
   },
   "source": [
    "Call the function to find the value of square of 9."
   ]
  },
  {
   "cell_type": "code",
   "execution_count": 12,
   "metadata": {
    "colab": {
     "base_uri": "https://localhost:8080/"
    },
    "executionInfo": {
     "elapsed": 1184,
     "status": "ok",
     "timestamp": 1619456250307,
     "user": {
      "displayName": "",
      "photoUrl": "",
      "userId": ""
     },
     "user_tz": -330
    },
    "id": "n39wXazoeNXZ",
    "outputId": "85e1d5dd-503b-494a-fa36-d90eb4d84752"
   },
   "outputs": [
    {
     "name": "stdout",
     "output_type": "stream",
     "text": [
      "Square of 9 is  81\n"
     ]
    }
   ],
   "source": [
    "# find the value of square of 9 using the function square\n",
    "print(\"Square of 9 is \",square(9))\n"
   ]
  },
  {
   "cell_type": "markdown",
   "metadata": {
    "id": "kbMd0a5OeNXZ"
   },
   "source": [
    "### Define another function which checks whether a given number if odd or even, for a given input, it should print whether the given number is odd or even. "
   ]
  },
  {
   "cell_type": "markdown",
   "metadata": {
    "id": "GlFY1uvReNXZ"
   },
   "source": [
    "<p style='text-align: right;'> 5 + 3 = 8 points </p>\n"
   ]
  },
  {
   "cell_type": "code",
   "execution_count": 14,
   "metadata": {
    "executionInfo": {
     "elapsed": 1222,
     "status": "ok",
     "timestamp": 1619456466947,
     "user": {
      "displayName": "",
      "photoUrl": "",
      "userId": ""
     },
     "user_tz": -330
    },
    "id": "Oja7v27TeNXa"
   },
   "outputs": [],
   "source": [
    "# your code here\n",
    "def check_odd_even(x):\n",
    "    if (x%2==0):\n",
    "     return \"even\"\n",
    "    else:\n",
    "     return \"odd\"  "
   ]
  },
  {
   "cell_type": "markdown",
   "metadata": {
    "id": "qePe7xTqeNXa"
   },
   "source": [
    "Using both the functions to check whether the square of 3,6,21 is odd or even.\n"
   ]
  },
  {
   "cell_type": "code",
   "execution_count": 17,
   "metadata": {
    "colab": {
     "base_uri": "https://localhost:8080/"
    },
    "executionInfo": {
     "elapsed": 1184,
     "status": "ok",
     "timestamp": 1619456515835,
     "user": {
      "displayName": "",
      "photoUrl": "",
      "userId": ""
     },
     "user_tz": -330
    },
    "id": "SvPD7KIReNXa",
    "outputId": "670982f5-7dfc-4b6f-983f-8a61253b9318"
   },
   "outputs": [
    {
     "name": "stdout",
     "output_type": "stream",
     "text": [
      "3 is  odd\n",
      "6 is  even\n",
      "21 is  odd\n"
     ]
    }
   ],
   "source": [
    " print(\"3 is \",check_odd_even(square(3)))\n",
    " print(\"6 is \",check_odd_even(square(6)))\n",
    " print(\"21 is \",check_odd_even(square(21)))\n",
    "\n"
   ]
  },
  {
   "cell_type": "markdown",
   "metadata": {
    "id": "jq3_yMKzeNXa"
   },
   "source": [
    "# Loops and Iterations\n",
    "Reference:- https://youtu.be/6iF8Xb7Z3wQ"
   ]
  },
  {
   "cell_type": "markdown",
   "metadata": {
    "id": "PkaQt5bFeNXa"
   },
   "source": [
    "## If statement"
   ]
  },
  {
   "cell_type": "markdown",
   "metadata": {
    "id": "OvyolCD9eNXa"
   },
   "source": [
    "<p style='text-align: right;'> 1 + 2 + 3 = 6 points </p>\n"
   ]
  },
  {
   "cell_type": "code",
   "execution_count": 11,
   "metadata": {
    "colab": {
     "base_uri": "https://localhost:8080/"
    },
    "executionInfo": {
     "elapsed": 2171,
     "status": "ok",
     "timestamp": 1619431610910,
     "user": {
      "displayName": "",
      "photoUrl": "",
      "userId": ""
     },
     "user_tz": -330
    },
    "id": "TFWHRdSIeNXa",
    "outputId": "f486cb08-ae69-4242-f652-9069c0899db7"
   },
   "outputs": [
    {
     "name": "stdout",
     "output_type": "stream",
     "text": [
      "7\n"
     ]
    }
   ],
   "source": [
    "#Declare a variable x equal to a number of your choice.\n",
    "#your code here\n",
    "x =5 \n",
    "# add a number of your choice (mine is 3 :) )\n",
    "x=5+2\n",
    "print(x)\n"
   ]
  },
  {
   "cell_type": "code",
   "execution_count": 12,
   "metadata": {
    "colab": {
     "base_uri": "https://localhost:8080/"
    },
    "executionInfo": {
     "elapsed": 1078,
     "status": "ok",
     "timestamp": 1619431714213,
     "user": {
      "displayName": "",
      "photoUrl": "",
      "userId": ""
     },
     "user_tz": -330
    },
    "id": "5zdIP9qkeNXa",
    "outputId": "92ed5d41-d5ed-4e5d-a857-020f8e35a291"
   },
   "outputs": [
    {
     "name": "stdout",
     "output_type": "stream",
     "text": [
      "positive\n"
     ]
    }
   ],
   "source": [
    "#Using an if statement, print whether the number is 0, positive or negative.\n",
    "if(x>0):\n",
    " print(\"positive\")\n",
    "elif( x==0):\n",
    " print(\"0\")\n",
    "else:\n",
    " print(\"negative\") \n"
   ]
  },
  {
   "cell_type": "code",
   "execution_count": 57,
   "metadata": {
    "colab": {
     "base_uri": "https://localhost:8080/"
    },
    "executionInfo": {
     "elapsed": 1033,
     "status": "ok",
     "timestamp": 1619438114790,
     "user": {
      "displayName": "",
      "photoUrl": "",
      "userId": ""
     },
     "user_tz": -330
    },
    "id": "l5LgRlqpeNXa",
    "outputId": "be02cd86-ad25-479a-e3ea-fe5303b53bf8"
   },
   "outputs": [
    {
     "name": "stdout",
     "output_type": "stream",
     "text": [
      "positive\n",
      "negative\n",
      "0\n"
     ]
    }
   ],
   "source": [
    "# Define a function, which takes input from the user and prints whether the given input is 0,positive or negative.\n",
    "\n",
    "def check_num(x):\n",
    "    if(x>0):\n",
    "      print(\"positive\")\n",
    "    elif( x==0):\n",
    "      print(\"0\")\n",
    "    else:\n",
    "      print(\"negative\") \n",
    "\n",
    "\n",
    "check_num(10)\n",
    "check_num(-2)\n",
    "check_num(0)"
   ]
  },
  {
   "cell_type": "markdown",
   "metadata": {
    "id": "t_Wm6qQteNXa"
   },
   "source": [
    "## For loop"
   ]
  },
  {
   "cell_type": "markdown",
   "metadata": {
    "id": "5WW-_3D2eNXb"
   },
   "source": [
    "<p style='text-align: right;'> 2 points </p>\n"
   ]
  },
  {
   "cell_type": "code",
   "execution_count": 6,
   "metadata": {
    "executionInfo": {
     "elapsed": 1296,
     "status": "ok",
     "timestamp": 1619431510322,
     "user": {
      "displayName": "",
      "photoUrl": "",
      "userId": ""
     },
     "user_tz": -330
    },
    "id": "1kfN4juZeNXb"
   },
   "outputs": [],
   "source": [
    "#Create a list x, such that it contains the elements - ‘India’, ‘Israel’,’Canada’.\n",
    "x=[\"India\", \"Israel\",\"Canada\"]\n",
    "\n"
   ]
  },
  {
   "cell_type": "code",
   "execution_count": 7,
   "metadata": {
    "colab": {
     "base_uri": "https://localhost:8080/"
    },
    "executionInfo": {
     "elapsed": 1037,
     "status": "ok",
     "timestamp": 1619431513888,
     "user": {
      "displayName": "",
      "photoUrl": "",
      "userId": ""
     },
     "user_tz": -330
    },
    "id": "pCpvEYO4eNXb",
    "outputId": "6a6dd30b-dbd6-4565-f03f-c6146fb18801"
   },
   "outputs": [
    {
     "name": "stdout",
     "output_type": "stream",
     "text": [
      "India\n",
      "Israel\n",
      "Canada\n"
     ]
    }
   ],
   "source": [
    "#Using For loop, iterate over the list and print the elements.\n",
    "for i in x:\n",
    "  print(i)\n"
   ]
  },
  {
   "cell_type": "markdown",
   "metadata": {
    "id": "Rim9K3pceNXb"
   },
   "source": [
    "<p style='text-align: right;'> 2 points </p>\n"
   ]
  },
  {
   "cell_type": "code",
   "execution_count": 58,
   "metadata": {
    "colab": {
     "base_uri": "https://localhost:8080/"
    },
    "executionInfo": {
     "elapsed": 1225,
     "status": "ok",
     "timestamp": 1619438334061,
     "user": {
      "displayName": "",
      "photoUrl": "",
      "userId": ""
     },
     "user_tz": -330
    },
    "id": "rx3tbYM9eNXb",
    "outputId": "3e2363e4-3be9-4cc5-8232-90e9cb94e466"
   },
   "outputs": [
    {
     "name": "stdout",
     "output_type": "stream",
     "text": [
      "2 * 1 = 2\n",
      "2 * 2 = 4\n",
      "2 * 3 = 6\n",
      "2 * 4 = 8\n",
      "2 * 5 = 10\n",
      "2 * 6 = 12\n",
      "2 * 7 = 14\n",
      "2 * 8 = 16\n",
      "2 * 9 = 18\n",
      "2 * 10 = 20\n"
     ]
    }
   ],
   "source": [
    "# Using For loop, print the table of 2.\n",
    "for x in range(1,11):\n",
    " print(2,\"*\",x,\"=\",2*x)\n"
   ]
  },
  {
   "cell_type": "markdown",
   "metadata": {
    "id": "TYlQTnLeeNXb"
   },
   "source": [
    "For a given list, x = [21, ‘hello,’cream’, 20,19,’village’], using for loop to iterate over the items and using - if statement print the items that are of type int"
   ]
  },
  {
   "cell_type": "code",
   "execution_count": 18,
   "metadata": {
    "colab": {
     "base_uri": "https://localhost:8080/"
    },
    "executionInfo": {
     "elapsed": 1163,
     "status": "ok",
     "timestamp": 1619456663003,
     "user": {
      "displayName": "",
      "photoUrl": "",
      "userId": ""
     },
     "user_tz": -330
    },
    "id": "zPb6Xn4PeNXb",
    "outputId": "5964f10d-dc6b-4dcf-dd93-0fabcb488632"
   },
   "outputs": [
    {
     "name": "stdout",
     "output_type": "stream",
     "text": [
      "[21, 20, 19]\n"
     ]
    }
   ],
   "source": [
    "#code here\n",
    "x = [21, \"hello\",\"cream\", 20,19,\"village\"]\n",
    "y=[i for i in x if str(i).isdigit()]\n",
    "print(y) \n"
   ]
  },
  {
   "cell_type": "markdown",
   "metadata": {
    "id": "KBkudqyteNXb"
   },
   "source": [
    "Using For loop, create the following pattern. "
   ]
  },
  {
   "cell_type": "markdown",
   "metadata": {
    "id": "zp2ASyFFeNXb"
   },
   "source": [
    "<p style='text-align: right;'> 10 points </p>\n"
   ]
  },
  {
   "cell_type": "code",
   "execution_count": null,
   "metadata": {
    "id": "SUuCztSneNXb",
    "outputId": "52b19ae2-ad4d-4b73-c0c1-4d408ae31035"
   },
   "outputs": [
    {
     "name": "stdout",
     "output_type": "stream",
     "text": [
      "* \r\n",
      "* * \r\n",
      "* * * \r\n",
      "* * * * \r\n",
      "* * * * * \r\n"
     ]
    }
   ],
   "source": [
    "# print the following pattern"
   ]
  },
  {
   "cell_type": "code",
   "execution_count": 55,
   "metadata": {
    "colab": {
     "base_uri": "https://localhost:8080/"
    },
    "executionInfo": {
     "elapsed": 2266,
     "status": "ok",
     "timestamp": 1619437799839,
     "user": {
      "displayName": "",
      "photoUrl": "",
      "userId": ""
     },
     "user_tz": -330
    },
    "id": "1f5mhGWWeNXc",
    "outputId": "a59c8146-1010-4264-c441-e6239d55f5ef"
   },
   "outputs": [
    {
     "name": "stdout",
     "output_type": "stream",
     "text": [
      "* \n",
      "* * \n",
      "* * * \n",
      "* * * * \n",
      "* * * * * \n"
     ]
    }
   ],
   "source": [
    "#your code here\n",
    "for x in range(5):\n",
    " for y in range(x+1):\n",
    "  print(\"*\",end=\" \")\n",
    " \n",
    " print(\"\")\n",
    "\n"
   ]
  },
  {
   "cell_type": "markdown",
   "metadata": {
    "id": "jE2Yqu-1eNXc"
   },
   "source": [
    "## While loop"
   ]
  },
  {
   "cell_type": "markdown",
   "metadata": {
    "id": "7F80GCJxeNXc"
   },
   "source": [
    "- Using while loop make a function that prints all the values between 1 to n. "
   ]
  },
  {
   "cell_type": "markdown",
   "metadata": {
    "id": "eYnlKrJeeNXc"
   },
   "source": [
    "<p style='text-align: right;'> 10 points </p>\n"
   ]
  },
  {
   "cell_type": "code",
   "execution_count": 1,
   "metadata": {
    "executionInfo": {
     "elapsed": 2890,
     "status": "ok",
     "timestamp": 1619431321964,
     "user": {
      "displayName": "",
      "photoUrl": "",
      "userId": ""
     },
     "user_tz": -330
    },
    "id": "hmhgUZ9ReNXc"
   },
   "outputs": [],
   "source": [
    "def counter(n):\n",
    "    # add your code here\n",
    "    i=1\n",
    "    while (i<=10):\n",
    "      print(i)\n",
    "      i=i+1\n",
    "    "
   ]
  },
  {
   "cell_type": "code",
   "execution_count": 3,
   "metadata": {
    "colab": {
     "base_uri": "https://localhost:8080/"
    },
    "executionInfo": {
     "elapsed": 2095,
     "status": "ok",
     "timestamp": 1619431355677,
     "user": {
      "displayName": "",
      "photoUrl": "",
      "userId": ""
     },
     "user_tz": -330
    },
    "id": "SHWDY_QyeNXc",
    "outputId": "380627de-5814-43f5-f0aa-5facddbc3fec"
   },
   "outputs": [
    {
     "name": "stdout",
     "output_type": "stream",
     "text": [
      "1\n",
      "2\n",
      "3\n",
      "4\n",
      "5\n",
      "6\n",
      "7\n",
      "8\n",
      "9\n",
      "10\n"
     ]
    }
   ],
   "source": [
    "counter(10) #this should print numbers from 1 to 10"
   ]
  },
  {
   "cell_type": "markdown",
   "metadata": {
    "id": "6VhKFcUUeNXc"
   },
   "source": [
    "### Write the code for the following, what is the output obtained?\n",
    "- Set a variable flag = True, num = 5\n",
    "- Run a while loop till flag = True\n",
    "- Inside the while loop - \n",
    "    - Increment the value of num by 5\n",
    "    - If value of num is greater then 50, set flag to be False"
   ]
  },
  {
   "cell_type": "code",
   "execution_count": 54,
   "metadata": {
    "colab": {
     "base_uri": "https://localhost:8080/"
    },
    "executionInfo": {
     "elapsed": 1052,
     "status": "ok",
     "timestamp": 1619437151260,
     "user": {
      "displayName": "",
      "photoUrl": "",
      "userId": ""
     },
     "user_tz": -330
    },
    "id": "tbaduSb4eNXc",
    "outputId": "f150cc73-8d11-49eb-a9a7-81872c68f2b3"
   },
   "outputs": [
    {
     "name": "stdout",
     "output_type": "stream",
     "text": [
      "5\n",
      "10\n",
      "15\n",
      "20\n",
      "25\n",
      "30\n",
      "35\n",
      "40\n",
      "45\n",
      "50\n"
     ]
    }
   ],
   "source": [
    "# your code here\n",
    "flag=True\n",
    "num=5\n",
    "\n",
    "while (flag):\n",
    " print(num)\n",
    " num +=5\n",
    " if num>50:\n",
    "  flag=False\n",
    "\n",
    "\n",
    "\n"
   ]
  },
  {
   "cell_type": "markdown",
   "metadata": {
    "id": "ceWwq4PgeNXd"
   },
   "source": [
    "----------------------------------------------------------------------"
   ]
  },
  {
   "cell_type": "markdown",
   "metadata": {
    "id": "52T19XOpeNXd"
   },
   "source": [
    "# Smile, you completed the first milestone :)!! "
   ]
  },
  {
   "cell_type": "code",
   "execution_count": null,
   "metadata": {
    "id": "Urotn6FReNXd"
   },
   "outputs": [],
   "source": []
  }
 ],
 "metadata": {
  "colab": {
   "name": "Copy of Python Basics.ipynb",
   "provenance": [
    {
     "file_id": "https://github.com/cloudyml/ai4all/blob/main/Python%20Basics.ipynb",
     "timestamp": 1619457036597
    }
   ]
  },
  "kernelspec": {
   "display_name": "Python 3",
   "language": "python",
   "name": "python3"
  },
  "language_info": {
   "codemirror_mode": {
    "name": "ipython",
    "version": 3
   },
   "file_extension": ".py",
   "mimetype": "text/x-python",
   "name": "python",
   "nbconvert_exporter": "python",
   "pygments_lexer": "ipython3",
   "version": "3.9.4"
  }
 },
 "nbformat": 4,
 "nbformat_minor": 1
}
